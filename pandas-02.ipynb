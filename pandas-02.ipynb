{
 "cells": [
  {
   "cell_type": "code",
   "execution_count": 27,
   "metadata": {
    "collapsed": true
   },
   "outputs": [],
   "source": [
    "import pandas as pd\n",
    "\n",
    "# The files that will be read and output\n",
    "infile = 'data/US_GDP.csv'\n",
    "outfile = 'data/US_GDP_date_index.csv'\n",
    "\n",
    "# Reading the CSV\n",
    "GDP_data = pd.read_csv(infile, delimiter=',')\n",
    "\n",
    "# Setting the date time\n",
    "GDP_data.date = pd.to_datetime(GDP_data.date)\n",
    "\n",
    "# Setting the index to display the date instead of the row number\n",
    "GDP_data.set_index('date', inplace=True)\n",
    "\n",
    "# Re-displaying the data\n",
    "GDP_data.head()\n",
    "\n",
    "# Outputting the data with the correct index formatted as expected\n",
    "GDP_data.to_csv(outfile)\n",
    "\n",
    "\n"
   ]
  },
  {
   "cell_type": "code",
   "execution_count": null,
   "outputs": [],
   "source": [],
   "metadata": {
    "collapsed": false
   }
  }
 ],
 "metadata": {
  "kernelspec": {
   "display_name": "Python 3",
   "language": "python",
   "name": "python3"
  },
  "language_info": {
   "codemirror_mode": {
    "name": "ipython",
    "version": 2
   },
   "file_extension": ".py",
   "mimetype": "text/x-python",
   "name": "python",
   "nbconvert_exporter": "python",
   "pygments_lexer": "ipython2",
   "version": "2.7.6"
  }
 },
 "nbformat": 4,
 "nbformat_minor": 0
}
