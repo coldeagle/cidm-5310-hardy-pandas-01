{
 "cells": [
  {
   "cell_type": "code",
   "execution_count": 28,
   "metadata": {
    "collapsed": true
   },
   "outputs": [
    {
     "name": "stdout",
     "output_type": "stream",
     "text": [
      "2871\n",
      "2378\n",
      "Which store has greater sales for the quarter: Store 1\n",
      "Which store has the highest sales for grocery products: Store 2\n",
      "Which store has the highest sales for March: Store 1\n",
      "   Months  Grocery_sales  Stationary_sales\n",
      "1     Jan             44               139\n",
      "2     Jan             15                85\n",
      "4     Jan             36               106\n",
      "5     Jan             27               136\n",
      "6     Jan             74               116\n",
      "7     Jan             63               142\n",
      "8     Jan             65               129\n",
      "9     Jan             12               138\n",
      "10    Feb             34               112\n",
      "11    Feb             73               100\n",
      "12    Feb             45               135\n",
      "13    Feb             31                13\n",
      "14    Feb             61                51\n",
      "16    Feb             20               141\n",
      "17    Feb             18                72\n",
      "18    Feb             60               134\n",
      "19    Feb             62                47\n",
      "21    Feb             25                75\n",
      "23    Feb             10               118\n",
      "25    Mar             72                97\n",
      "26    Mar             48                63\n",
      "27    Mar             64                54\n",
      "28    Mar             14                78\n",
      "29    Mar             51               104\n",
      "30    Mar             30               133\n",
      "33    Mar             66                80\n",
      "35    Mar             54               111\n",
      "36    Mar             46               147\n",
      "37    Mar             43               137\n",
      "39    Mar             55                50\n",
      "42    Mar             28                73\n",
      "44    Mar             57               124\n",
      "46    Mar             11                86\n",
      "48    Mar             52                68\n",
      "49    Mar             29               113\n",
      "For how many days were the sales of stationery products greater in store 1 than in store 2: 35\n"
     ]
    }
   ],
   "source": [
    "import warnings\n",
    "warnings.simplefilter(action='ignore', category=UserWarning)\n",
    "import pandas as pd\n",
    "\n",
    "file1 = 'data/Store1.csv'\n",
    "file2 = 'data/Store2.csv'\n",
    "outpath = 'data/results.csv'\n",
    "\n",
    "# Importing the stores\n",
    "store1 = pd.read_csv(file1, delimiter=',')\n",
    "store2 = pd.read_csv(file2, delimiter=',')\n",
    "\n",
    "# Creating a collection of the stores\n",
    "stores = [store1, store2]\n",
    "\n",
    "# Creating the collections needed to answer the problems\n",
    "total_sales = []\n",
    "grocery_sales = []\n",
    "stationary_sales = []\n",
    "monthly_sales = []\n",
    "\n",
    "# Looping through each of the stores to get the data needed to answer the questions\n",
    "for store in stores:\n",
    "    # Getting the data together\n",
    "    g_sales = store.Grocery_sales.sum()\n",
    "    s_sales = store.Stationary_sales.sum()\n",
    "    m_sales = store.groupby(['Months'])[['Grocery_sales','Stationary_sales']].agg('sum').agg('sum',axis = 1)\n",
    "\n",
    "    # Appending the collections\n",
    "    total_sales.append(g_sales + s_sales)\n",
    "    grocery_sales.append(g_sales)\n",
    "    stationary_sales.append(s_sales)\n",
    "    monthly_sales.append(m_sales)\n",
    "\n",
    "# Determining the answers to the questions\n",
    "q_leader = 'Store 1' if total_sales[0] > total_sales[1] else 'Store 2'\n",
    "g_leader = 'Store 1' if grocery_sales[0] > grocery_sales[1] else 'Store 2'\n",
    "mar_leader = 'Store 1' if monthly_sales[0]['Mar'] > monthly_sales[1]['Mar'] else 'Store 2'\n",
    "days_greater = store1[store1.Stationary_sales.gt(store2.Stationary_sales, axis=0)]\n",
    "num_days_greater = len(days_greater)\n",
    "\n",
    "# Printing the answer\n",
    "print(f'Which store has greater sales for the quarter: {q_leader}')\n",
    "print(f'Which store has the highest sales for grocery products: {g_leader}')\n",
    "print(f'Which store has the highest sales for March: {mar_leader}')\n",
    "print(f\"For how many days were the sales of stationery products greater in store 1 than in store 2: {num_days_greater}\")\n",
    "print(days_greater)"
   ]
  },
  {
   "cell_type": "code",
   "execution_count": null,
   "outputs": [],
   "source": [],
   "metadata": {
    "collapsed": false
   }
  }
 ],
 "metadata": {
  "kernelspec": {
   "display_name": "Python 3",
   "language": "python",
   "name": "python3"
  },
  "language_info": {
   "codemirror_mode": {
    "name": "ipython",
    "version": 2
   },
   "file_extension": ".py",
   "mimetype": "text/x-python",
   "name": "python",
   "nbconvert_exporter": "python",
   "pygments_lexer": "ipython2",
   "version": "2.7.6"
  }
 },
 "nbformat": 4,
 "nbformat_minor": 0
}
